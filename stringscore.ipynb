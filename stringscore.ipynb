{
 "cells": [
  {
   "cell_type": "markdown",
   "metadata": {},
   "source": [
    "Given a string of words, you need to find the highest scoring word.\n",
    "\n",
    "Each letter of a word scores points according to its position in the alphabet: a = 1, b = 2, c = 3 etc.\n",
    "\n",
    "You need to return the highest scoring word as a string.\n",
    "\n",
    "If two words score the same, return the word that appears earliest in the original string.\n",
    "\n",
    "All letters will be lowercase and all inputs will be valid."
   ]
  },
  {
   "cell_type": "markdown",
   "metadata": {},
   "source": [
    "**Thoughts**:\n",
    "\n",
    "This is just calculating a max based on a dict (a:1 and so on) and then returning said max. A little research turns up chr(), which offers the unicode value of a character. So we can generate this dictionary pretty easily with a comprehension (being able to do dictionary comprehensions makes sense given lsit\n",
    "\n",
    "We also need to divide the given string. Split does this. "
   ]
  },
  {
   "cell_type": "code",
   "execution_count": 28,
   "metadata": {},
   "outputs": [],
   "source": [
    "def high(x):\n",
    "    alphabeta = {chr(i+96):i for i in range(1,27)}\n",
    "    max = 0\n",
    "    maxstring = ''\n",
    "    for i in x.split(' '):\n",
    "        sum = 0\n",
    "        for y in i:\n",
    "            sum += alphabeta[y]\n",
    "            if sum > max:\n",
    "                max = sum\n",
    "                maxstring = i\n",
    "    return maxstring\n",
    "            "
   ]
  },
  {
   "cell_type": "code",
   "execution_count": 27,
   "metadata": {},
   "outputs": [
    {
     "data": {
      "text/plain": [
       "'volcano'"
      ]
     },
     "execution_count": 27,
     "metadata": {},
     "output_type": "execute_result"
    }
   ],
   "source": [
    "high('what time are we climbing up the volcano')"
   ]
  },
  {
   "cell_type": "markdown",
   "metadata": {},
   "source": [
    "**Thoughts After**:\n",
    "   \n",
    "`def high(x):\n",
    "    return max(x.split(), key=lambda k: sum(ord(c) - 96 for c in k))`\n",
    "    \n",
    "This is considrered best practice. I think this is a lambda function but I don't actually understand this syntax. Something to learn as I go on. Ord converts unicode to an integer - this is just a more direct and better chr for this function.\n",
    "\n",
    "Researching more.\n",
    "\n",
    "The max function can return a non-mathematical value by using a key.\n",
    "\n",
    "So the key is a lamba function which is the sum of the unicode value less 96"
   ]
  },
  {
   "cell_type": "code",
   "execution_count": null,
   "metadata": {},
   "outputs": [],
   "source": []
  }
 ],
 "metadata": {
  "kernelspec": {
   "display_name": "Python 3",
   "language": "python",
   "name": "python3"
  },
  "language_info": {
   "codemirror_mode": {
    "name": "ipython",
    "version": 3
   },
   "file_extension": ".py",
   "mimetype": "text/x-python",
   "name": "python",
   "nbconvert_exporter": "python",
   "pygments_lexer": "ipython3",
   "version": "3.7.6"
  }
 },
 "nbformat": 4,
 "nbformat_minor": 4
}
