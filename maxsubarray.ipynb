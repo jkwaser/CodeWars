{
 "cells": [
  {
   "cell_type": "markdown",
   "metadata": {},
   "source": [
    "The maximum sum subarray problem consists in finding the maximum sum of a contiguous subsequence in an array or list of integers:\n",
    "\n",
    "max_sequence([-2, 1, -3, 4, -1, 2, 1, -5, 4])\n",
    "\n",
    "should be 6: [4, -1, 2, 1]\n",
    "\n",
    "Easy case is when the list is made up of only positive numbers and the maximum sum is the sum of the whole array. If the list is made up of only negative numbers, return 0 instead.\n",
    "\n",
    "Empty list is considered to have zero greatest sum. Note that the empty list or array is also a valid sublist/subarray."
   ]
  },
  {
   "cell_type": "markdown",
   "metadata": {},
   "source": [
    "**Thoughts**:\n",
    "\n",
    "So for array n, we're looking for max(n[i:j]) where i <= j. \n",
    "\n",
    "We want a way to find subarrays and sums. Can just use sum(n[i:j]) however as we don't need to return the subarray itself. So fairly simple."
   ]
  },
  {
   "cell_type": "code",
   "execution_count": 26,
   "metadata": {},
   "outputs": [],
   "source": [
    "def max_sequence(arr):\n",
    "    max = 0\n",
    "    for i in range(0,len(arr)):\n",
    "        for j in range(0,len(arr)):\n",
    "            if sum(arr[i:j+1]) > max:\n",
    "                max = sum(arr[i:j+1])\n",
    "    return max"
   ]
  },
  {
   "cell_type": "markdown",
   "metadata": {},
   "source": [
    "**Thoughts After**:\n",
    "\n",
    "def maxSequence(arr):\\\n",
    "    max,curr=0,0\\\n",
    "    for x in arr:\\\n",
    "        curr+=x\\\n",
    "        if curr<0:curr=0\\\n",
    "        if curr>max:max=curr\\\n",
    "    return max\\\n",
    "    \n",
    "The above is voted best solution. I can see why. It iterates through sequences - if a sequence is <0 we need to discard that subarray as it's not worth adding. Given it iterates from the source it won't find discard any subarrays in the middle that are part of larger positive subarrays. A positive subarray exceeding max becomes max, so we sum all positive subarrays and move through until we find the largest one.\n",
    "\n",
    "By comparison, my function can't discard negative subarrays thereby reducing the search space - it needs to calculate all possible subarrays. "
   ]
  },
  {
   "cell_type": "code",
   "execution_count": null,
   "metadata": {},
   "outputs": [],
   "source": []
  },
  {
   "cell_type": "code",
   "execution_count": 37,
   "metadata": {},
   "outputs": [
    {
     "name": "stdout",
     "output_type": "stream",
     "text": [
      "1\n",
      "4\n",
      "5\n",
      "6\n"
     ]
    },
    {
     "data": {
      "text/plain": [
       "6"
      ]
     },
     "execution_count": 37,
     "metadata": {},
     "output_type": "execute_result"
    }
   ],
   "source": []
  },
  {
   "cell_type": "code",
   "execution_count": null,
   "metadata": {},
   "outputs": [],
   "source": []
  }
 ],
 "metadata": {
  "kernelspec": {
   "display_name": "Python 3",
   "language": "python",
   "name": "python3"
  },
  "language_info": {
   "codemirror_mode": {
    "name": "ipython",
    "version": 3
   },
   "file_extension": ".py",
   "mimetype": "text/x-python",
   "name": "python",
   "nbconvert_exporter": "python",
   "pygments_lexer": "ipython3",
   "version": "3.7.6"
  }
 },
 "nbformat": 4,
 "nbformat_minor": 4
}
