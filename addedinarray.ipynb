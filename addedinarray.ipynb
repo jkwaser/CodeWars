{
 "cells": [
  {
   "cell_type": "markdown",
   "metadata": {},
   "source": [
    "Write a function that takes an array of numbers (integers for the tests) and a target number. It should find two different items in the array that, when added together, give the target value. The indices of these items should then be returned in a tuple like so: (index1, index2).\n",
    "\n",
    "For the purposes of this kata, some tests may have multiple answers; any valid solutions will be accepted.\n",
    "\n",
    "The input will always be valid (numbers will be an array of length 2 or greater, and all of the items will be numbers; target will always be the sum of two different items from that array).\n",
    "\n",
    "Based on: http://oj.leetcode.com/problems/two-sum/\n",
    "\n",
    "twoSum [1, 2, 3] 4 === (0, 2)"
   ]
  },
  {
   "cell_type": "markdown",
   "metadata": {},
   "source": [
    "**Thoughts**: For i, j in n, if i + j == m, return i, j.\n",
    "    "
   ]
  },
  {
   "cell_type": "code",
   "execution_count": 27,
   "metadata": {},
   "outputs": [],
   "source": [
    "def two_sum(numbers, target):\n",
    "    i,j = 0,1\n",
    "    while numbers[i] + numbers[j] != target:\n",
    "        if j < len(numbers):\n",
    "            j+=1\n",
    "        if j == len(numbers):\n",
    "            i+=1\n",
    "            j = i+1\n",
    "    return i,j"
   ]
  },
  {
   "cell_type": "markdown",
   "metadata": {},
   "source": [
    "**Thoughts After**: Works.\n",
    "\n",
    "Best solution by community is considered.\n",
    "\n",
    "`def two_sum(nums, t):\n",
    "    for i, x in enumerate(nums):\n",
    "        for j, y in enumerate(nums):\n",
    "            if i != j and x + y == t:\n",
    "                return [i, j]`\n",
    "                \n",
    "This has something to do with enumerate. I don't understand this function yet.\n",
    "\n",
    "After looking it up - enumerate returns index, value in a tuple. So indexes (i,j) aren't equal, if their values added equal t, return indexes.\n",
    "\n",
    "Useful to know about enumerate.\n",
    "\n",
    "\n",
    "                \n"
   ]
  },
  {
   "cell_type": "code",
   "execution_count": 35,
   "metadata": {},
   "outputs": [
    {
     "name": "stdout",
     "output_type": "stream",
     "text": [
      "[(0, 11), (1, 12), (2, 17), (3, 18), (4, 19)]\n"
     ]
    }
   ],
   "source": [
    "print(list(enumerate([11,12,17,18, 19])))"
   ]
  },
  {
   "cell_type": "code",
   "execution_count": null,
   "metadata": {},
   "outputs": [],
   "source": []
  }
 ],
 "metadata": {
  "kernelspec": {
   "display_name": "Python 3",
   "language": "python",
   "name": "python3"
  },
  "language_info": {
   "codemirror_mode": {
    "name": "ipython",
    "version": 3
   },
   "file_extension": ".py",
   "mimetype": "text/x-python",
   "name": "python",
   "nbconvert_exporter": "python",
   "pygments_lexer": "ipython3",
   "version": "3.7.6"
  }
 },
 "nbformat": 4,
 "nbformat_minor": 4
}
