{
 "cells": [
  {
   "cell_type": "markdown",
   "metadata": {},
   "source": [
    "The Fibonacci numbers are the numbers in the following integer sequence (Fn):\n",
    "\n",
    "0, 1, 1, 2, 3, 5, 8, 13, 21, 34, 55, 89, 144, 233, ...\n",
    "\n",
    "such as\n",
    "\n",
    "F(n) = F(n-1) + F(n-2) with F(0) = 0 and F(1) = 1.\n",
    "\n",
    "Given a number, say prod (for product), we search two Fibonacci numbers F(n) and F(n+1) verifying\n",
    "\n",
    "F(n) * F(n+1) = prod.\n",
    "\n",
    "Your function productFib takes an integer (prod) and returns an array:\n",
    "\n",
    "[F(n), F(n+1), true] or {F(n), F(n+1), 1} or (F(n), F(n+1), True)\n",
    "depending on the language if F(n) * F(n+1) = prod.\n",
    "\n",
    "If you don't find two consecutive F(m) verifying F(m) * F(m+1) = prodyou will return\n",
    "\n",
    "[F(m), F(m+1), false] or {F(n), F(n+1), 0} or (F(n), F(n+1), False)\n",
    "F(m) being the smallest one such as F(m) * F(m+1) > prod.\n",
    "\n",
    "Some Examples of Return:\n",
    "(depend on the language)\n",
    "\n",
    "productFib(714) # should return (21, 34, true), \n",
    "                # since F(8) = 21, F(9) = 34 and 714 = 21 * 34\n",
    "\n",
    "productFib(800) # should return (34, 55, false), \n",
    "                # since F(8) = 21, F(9) = 34, F(10) = 55 and 21 * 34 < 800 < 34 * 55\n",
    "-----\n",
    "productFib(714) # should return [21, 34, true], \n",
    "productFib(800) # should return [34, 55, false], \n",
    "-----\n",
    "productFib(714) # should return {21, 34, 1}, \n",
    "productFib(800) # should return {34, 55, 0},        \n",
    "-----\n",
    "productFib(714) # should return {21, 34, true}, \n",
    "productFib(800) # should return {34, 55, false}, "
   ]
  },
  {
   "cell_type": "markdown",
   "metadata": {},
   "source": [
    "**Thoughts**: We're looking to return the two consecutive Fibonacci factors if they exist. If they don't, the two smallest consective Fibonnaci numbers such that F(n) * F(n+1) > m.\n",
    "\n",
    "We just need to find a Fibonnaci divisor and then test to see if F(n+1) * F(n) = m or > m. If = m we return them with True, if > m we return them with False. Start with smallest #. "
   ]
  },
  {
   "cell_type": "code",
   "execution_count": 11,
   "metadata": {},
   "outputs": [],
   "source": [
    "def productFib(prod):\n",
    "    i = 0\n",
    "    j = 1\n",
    "    while True:\n",
    "        if i * j == prod:\n",
    "            return [i, j, True]\n",
    "        if i * j > prod:\n",
    "            return [i, j, False]\n",
    "        else:\n",
    "            j += i\n",
    "            i = j - i\n"
   ]
  },
  {
   "cell_type": "markdown",
   "metadata": {},
   "source": [
    "**Thoughts afterwards**:\n",
    "    \n",
    "    \n",
    "Simple. But best practice as indicated by the community is:\n",
    "\n",
    "`def productFib(prod):\n",
    "  a, b = 0, 1\n",
    "  while prod > a * b:\n",
    "    a, b = b, a + b\n",
    "  return [a, b, prod == a * b]`\n",
    "  \n",
    "This is a lot simpler and more elegant than my solution, which checks two conditions each time. This checks one and then returns the first a * b > prod "
   ]
  },
  {
   "cell_type": "code",
   "execution_count": 6,
   "metadata": {},
   "outputs": [
    {
     "name": "stdout",
     "output_type": "stream",
     "text": [
      "2 1 x 1\n",
      "3 2 x 2\n",
      "5 3 x 3\n",
      "8 5 x 4\n",
      "13 8 x 5\n",
      "21 13 x 6\n",
      "34 21 x 7\n",
      "55 34 x 8\n",
      "89 55 x 9\n",
      "144 89 x 10\n"
     ]
    }
   ],
   "source": [
    "Fib(10)"
   ]
  },
  {
   "cell_type": "code",
   "execution_count": null,
   "metadata": {},
   "outputs": [],
   "source": []
  }
 ],
 "metadata": {
  "kernelspec": {
   "display_name": "Python 3",
   "language": "python",
   "name": "python3"
  },
  "language_info": {
   "codemirror_mode": {
    "name": "ipython",
    "version": 3
   },
   "file_extension": ".py",
   "mimetype": "text/x-python",
   "name": "python",
   "nbconvert_exporter": "python",
   "pygments_lexer": "ipython3",
   "version": "3.7.6"
  }
 },
 "nbformat": 4,
 "nbformat_minor": 4
}
