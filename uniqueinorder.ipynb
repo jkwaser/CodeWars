{
 "cells": [
  {
   "cell_type": "markdown",
   "metadata": {},
   "source": [
    "Implement the function unique_in_order which takes as argument a sequence and returns a list of items without any elements with the same value next to each other and preserving the original order of elements.\n",
    "\n",
    "For example:\n",
    "\n",
    "unique_in_order('AAAABBBCCDAABBB') == ['A', 'B', 'C', 'D', 'A', 'B']\n",
    "unique_in_order('ABBCcAD')         == ['A', 'B', 'C', 'c', 'A', 'D']\n",
    "unique_in_order([1,2,2,3,3])       == [1,2,3]"
   ]
  },
  {
   "cell_type": "markdown",
   "metadata": {},
   "source": [
    "Thoughts: Rather than create a new list can just mutate existing list by checking to see if x[i] = x[i+1]. By removing all duplicates next to each other we can return the correct list."
   ]
  },
  {
   "cell_type": "code",
   "execution_count": 98,
   "metadata": {},
   "outputs": [],
   "source": [
    "def unique_in_order(iterable):\n",
    "    if len(iterable) == 1 or len(iterable) == 0:\n",
    "        return list(iterable)\n",
    "    newlist = []\n",
    "    for i in range(0,len(iterable)):\n",
    "        if iterable[i] != iterable[i-1]:\n",
    "            newlist.append(iterable[i])\n",
    "    if newlist == []:\n",
    "        return list(iterable[0])\n",
    "    return newlist"
   ]
  },
  {
   "cell_type": "markdown",
   "metadata": {},
   "source": [
    "In review - decided to not to do the above. This solution is incredibly clunky compared to many codewars solutions I consequently read. "
   ]
  },
  {
   "cell_type": "code",
   "execution_count": 105,
   "metadata": {},
   "outputs": [],
   "source": [
    "def unique_in_order(iterable):\n",
    "    result = []\n",
    "    prev = None\n",
    "    for char in iterable[0:]:\n",
    "        print(\"char\", char, \"prev\", prev)\n",
    "        if char != prev:\n",
    "            result.append(char)\n",
    "            print(result)\n",
    "            prev = char\n",
    "    return result"
   ]
  },
  {
   "cell_type": "code",
   "execution_count": 106,
   "metadata": {},
   "outputs": [
    {
     "name": "stdout",
     "output_type": "stream",
     "text": [
      "char A prev None\n",
      "['A']\n",
      "char A prev A\n",
      "char A prev A\n",
      "char A prev A\n",
      "char B prev A\n",
      "['A', 'B']\n",
      "char B prev B\n",
      "char B prev B\n",
      "char C prev B\n",
      "['A', 'B', 'C']\n",
      "char C prev C\n",
      "char D prev C\n",
      "['A', 'B', 'C', 'D']\n",
      "char A prev D\n",
      "['A', 'B', 'C', 'D', 'A']\n",
      "char A prev A\n",
      "char B prev A\n",
      "['A', 'B', 'C', 'D', 'A', 'B']\n",
      "char B prev B\n",
      "char B prev B\n"
     ]
    },
    {
     "data": {
      "text/plain": [
       "['A', 'B', 'C', 'D', 'A', 'B']"
      ]
     },
     "execution_count": 106,
     "metadata": {},
     "output_type": "execute_result"
    }
   ],
   "source": [
    "unique_in_order('AAAABBBCCDAABBB')"
   ]
  },
  {
   "cell_type": "code",
   "execution_count": null,
   "metadata": {},
   "outputs": [],
   "source": []
  }
 ],
 "metadata": {
  "kernelspec": {
   "display_name": "Python 3",
   "language": "python",
   "name": "python3"
  },
  "language_info": {
   "codemirror_mode": {
    "name": "ipython",
    "version": 3
   },
   "file_extension": ".py",
   "mimetype": "text/x-python",
   "name": "python",
   "nbconvert_exporter": "python",
   "pygments_lexer": "ipython3",
   "version": "3.7.6"
  }
 },
 "nbformat": 4,
 "nbformat_minor": 4
}
