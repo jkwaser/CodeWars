{
 "cells": [
  {
   "cell_type": "markdown",
   "metadata": {},
   "source": [
    "Some numbers have funny properties. For example:\n",
    "\n",
    "89 --> 8¹ + 9² = 89 * 1\n",
    "\n",
    "695 --> 6² + 9³ + 5⁴= 1390 = 695 * 2\n",
    "\n",
    "46288 --> 4³ + 6⁴+ 2⁵ + 8⁶ + 8⁷ = 2360688 = 46288 * 51\n",
    "\n",
    "Given a positive integer n written as abcd... (a, b, c, d... being digits) and a positive integer p\n",
    "\n",
    "we want to find a positive integer k, if it exists, such as the sum of the digits of n taken to the successive powers of p is equal to k * n.\n",
    "In other words:\n",
    "\n",
    "Is there an integer k such as : (a ^ p + b ^ (p+1) + c ^(p+2) + d ^ (p+3) + ...) = n * k\n",
    "\n",
    "If it is the case we will return k, if not return -1.\n",
    "\n",
    "Note: n and p will always be given as strictly positive integers."
   ]
  },
  {
   "cell_type": "markdown",
   "metadata": {},
   "source": [
    "dig_pow(89, 1) should return 1 since 8¹ + 9² = 89 = 89 * 1\n",
    "\n",
    "dig_pow(92, 1) should return -1 since there is no k such as 9¹ + 2² equals 92 * k\n",
    "\n",
    "dig_pow(695, 2) should return 2 since 6² + 9³ + 5⁴= 1390 = 695 * 2\n",
    "\n",
    "dig_pow(46288, 3) should return 51 since 4³ + 6⁴+ 2⁵ + 8⁶ + 8⁷ = 2360688 = 46288 * 51\n"
   ]
  },
  {
   "cell_type": "markdown",
   "metadata": {},
   "source": [
    "Thinking on this it seems relatively simple. We compute the answer (n[1] ^ p + n[2] ^ p+1... and so on) to the first part of the equation. We then look to see if n is a divisor of this answer. If so, return the answer/n. If not, return -1."
   ]
  },
  {
   "cell_type": "code",
   "execution_count": 27,
   "metadata": {},
   "outputs": [],
   "source": [
    "def dig_pow(n, p):\n",
    "    digits = list(str(n))\n",
    "    power = p\n",
    "    k = 0\n",
    "    for i in digits:\n",
    "        k += (int(i) ** power)\n",
    "        power += 1\n",
    "    if k % n == 0:\n",
    "        return int(k / n)\n",
    "    return -1"
   ]
  },
  {
   "cell_type": "markdown",
   "metadata": {},
   "source": [
    "As answers go this is long, but not any more complex than other answers I've seen."
   ]
  },
  {
   "cell_type": "code",
   "execution_count": null,
   "metadata": {},
   "outputs": [],
   "source": []
  }
 ],
 "metadata": {
  "kernelspec": {
   "display_name": "Python 3",
   "language": "python",
   "name": "python3"
  },
  "language_info": {
   "codemirror_mode": {
    "name": "ipython",
    "version": 3
   },
   "file_extension": ".py",
   "mimetype": "text/x-python",
   "name": "python",
   "nbconvert_exporter": "python",
   "pygments_lexer": "ipython3",
   "version": "3.7.6"
  }
 },
 "nbformat": 4,
 "nbformat_minor": 4
}
