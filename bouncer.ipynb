{
 "cells": [
  {
   "cell_type": "markdown",
   "metadata": {},
   "source": [
    "A child is playing with a ball on the nth floor of a tall building. The height of this floor, h, is known.\n",
    "\n",
    "He drops the ball out of the window. The ball bounces (for example), to two-thirds of its height (a bounce of 0.66).\n",
    "\n",
    "His mother looks out of a window 1.5 meters from the ground.\n",
    "\n",
    "How many times will the mother see the ball pass in front of her window (including when it's falling and bouncing?\n",
    "\n",
    "Three conditions must be met for a valid experiment:\n",
    "Float parameter \"h\" in meters must be greater than 0\n",
    "Float parameter \"bounce\" must be greater than 0 and less than 1\n",
    "Float parameter \"window\" must be less than h.\n",
    "If all three conditions above are fulfilled, return a positive integer, otherwise return -1.\n",
    "\n",
    "Note:\n",
    "The ball can only be seen if the height of the rebounding ball is strictly greater than the window parameter."
   ]
  },
  {
   "cell_type": "markdown",
   "metadata": {},
   "source": [
    "**Thoughts** So we're checking height times bounce to the power of bounces - a sum of all of these greater than L.\n",
    "\n",
    "Firstly, if height is < window, if bounce > 1 or < 0, return -1. \n",
    "\n",
    "Then, we need to check the bounce. \n",
    "\n",
    "On the drop we increment by 1. So start with 1. Each successful bounce returns 2 more views (above and below the window)."
   ]
  },
  {
   "cell_type": "code",
   "execution_count": 7,
   "metadata": {},
   "outputs": [],
   "source": [
    "def bouncingBall(h, bounce, window):\n",
    "    if h <= window:\n",
    "        return -1\n",
    "    if bounce >= 1 or bounce <= 0:\n",
    "        return -1\n",
    "    bouncer = h * bounce\n",
    "    bouncecount = 1\n",
    "    while bouncer > window:\n",
    "        bouncecount += 2\n",
    "        bouncer = bouncer * bounce\n",
    "    return bouncecount"
   ]
  },
  {
   "cell_type": "markdown",
   "metadata": {},
   "source": [
    "**Thoughts Afterward**:\n",
    "\n",
    "Fairly simple. I feel this is slightly superior to the best practices solution that offers a similar return of -1 for incorrect parameters, but sets the counter at 0 and increments by 1 before and after the"
   ]
  },
  {
   "cell_type": "code",
   "execution_count": null,
   "metadata": {},
   "outputs": [],
   "source": []
  }
 ],
 "metadata": {
  "kernelspec": {
   "display_name": "Python 3",
   "language": "python",
   "name": "python3"
  },
  "language_info": {
   "codemirror_mode": {
    "name": "ipython",
    "version": 3
   },
   "file_extension": ".py",
   "mimetype": "text/x-python",
   "name": "python",
   "nbconvert_exporter": "python",
   "pygments_lexer": "ipython3",
   "version": "3.7.6"
  }
 },
 "nbformat": 4,
 "nbformat_minor": 4
}
